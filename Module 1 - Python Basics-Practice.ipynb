{
 "cells": [
  {
   "cell_type": "markdown",
   "metadata": {},
   "source": [
    "# 1. Using escape sequence print each word in different lines.\n",
    "Sample: \n",
    "\n",
    "__Input__ : 'Hey! Welcome to sample!' \n",
    "\n",
    "**Output**: \n",
    "    Hey!\n",
    "    Welcome\n",
    "    to\n",
    "    sample!\n"
   ]
  },
  {
   "cell_type": "code",
   "execution_count": 1,
   "metadata": {},
   "outputs": [
    {
     "name": "stdout",
     "output_type": "stream",
     "text": [
      "Hey!\n",
      "Welcome\n",
      "to\n",
      "sample!\n"
     ]
    }
   ],
   "source": [
    "print('Hey!\\nWelcome\\nto\\nsample!')"
   ]
  },
  {
   "cell_type": "markdown",
   "metadata": {},
   "source": [
    "# 2. Write a program to create a list of even numbers starting from x to y.\n",
    "\n",
    "__Input__:100 200\n",
    "\n",
    "__Output__:[100, 102, 104, 106, 108, 110, 112, 114, 116, 118, 120, 122, 124, 126, 128, 130, 132, 134, 136, 138, 140, 142, 144, 146, 148, 150, 152, 154, 156, 158, 160, 162, 164, 166, 168, 170, 172, 174, 176, 178, 180, 182, 184, 186, 188, 190, 192, 194, 196, 198, 200]"
   ]
  },
  {
   "cell_type": "code",
   "execution_count": 2,
   "metadata": {},
   "outputs": [
    {
     "name": "stdout",
     "output_type": "stream",
     "text": [
      "[100, 102, 104, 106, 108, 110, 112, 114, 116, 118, 120, 122, 124, 126, 128, 130, 132, 134, 136, 138, 140, 142, 144, 146, 148, 150, 152, 154, 156, 158, 160, 162, 164, 166, 168, 170, 172, 174, 176, 178, 180, 182, 184, 186, 188, 190, 192, 194, 196, 198, 200]\n"
     ]
    }
   ],
   "source": [
    "out=[]\n",
    "x=100\n",
    "y=200\n",
    "for i in range(x,y+1):\n",
    "    if i%2==0:\n",
    "        out.append(i)\n",
    "print(out)"
   ]
  },
  {
   "cell_type": "markdown",
   "metadata": {},
   "source": [
    "# 3. Write a program to replace the given word __X with Y__ from a string.\n",
    "   \n",
    "__Input__: Hello! I love apples\n",
    "      apples\n",
    "      oranges\n",
    "      \n",
    "__Output__:Hello! I love oranges"
   ]
  },
  {
   "cell_type": "code",
   "execution_count": 3,
   "metadata": {},
   "outputs": [
    {
     "data": {
      "text/plain": [
       "'Hello! I love apples oranges'"
      ]
     },
     "execution_count": 3,
     "metadata": {},
     "output_type": "execute_result"
    }
   ],
   "source": [
    "inp='Hello! I love apples apples oranges'\n",
    "inp.replace('apples apples','apples')"
   ]
  },
  {
   "cell_type": "markdown",
   "metadata": {},
   "source": [
    "# 4. Write a program generate __N__ numbers of fibbonacci series seperated by space.\n",
    "           \n",
    "__Input__: 5\n",
    "\n",
    "__Output__: 0 1 1 2 3"
   ]
  },
  {
   "cell_type": "code",
   "execution_count": 4,
   "metadata": {},
   "outputs": [
    {
     "name": "stdout",
     "output_type": "stream",
     "text": [
      "0 1 1 2 3 \n"
     ]
    }
   ],
   "source": [
    "def f_n(n):\n",
    "    u=0\n",
    "    v=1\n",
    "    if n==1:\n",
    "        return u\n",
    "    elif n==2:\n",
    "        return v\n",
    "    elif n>2:\n",
    "        for i in range(2,n):\n",
    "            c=u+v\n",
    "            u=v\n",
    "            v=c\n",
    "    return v\n",
    "\n",
    "a=''\n",
    "for i in range(1,6):\n",
    "    n=i\n",
    "    fn=f_n(n)\n",
    "    fn=str(fn)\n",
    "    a_1=fn+' '\n",
    "    a=a+a_1\n",
    "print(a)"
   ]
  },
  {
   "cell_type": "markdown",
   "metadata": {},
   "source": [
    "# 5. Write a program to find sum of digit from a given integer number __N__.\n",
    "    \n",
    "__Input__:4235\n",
    "\n",
    "__Output__:14"
   ]
  },
  {
   "cell_type": "code",
   "execution_count": 5,
   "metadata": {},
   "outputs": [
    {
     "name": "stdout",
     "output_type": "stream",
     "text": [
      "Total of given number is : 14\n"
     ]
    }
   ],
   "source": [
    "inp=4235\n",
    "inp=str(inp)\n",
    "l=[i for i in inp]\n",
    "l\n",
    "l1=[]\n",
    "for j in l:\n",
    "    l=int(j)\n",
    "    l1.append(l)\n",
    "tot=0\n",
    "for i in l1:\n",
    "    tot=tot+i\n",
    "print('Total of given number is :',tot)"
   ]
  },
  {
   "cell_type": "markdown",
   "metadata": {},
   "source": [
    "# 6. Write a program to find factorial of a given number __N__.\n",
    "\n",
    "__Input__:5\n",
    "\n",
    "__Output__:120"
   ]
  },
  {
   "cell_type": "code",
   "execution_count": 6,
   "metadata": {},
   "outputs": [
    {
     "name": "stdout",
     "output_type": "stream",
     "text": [
      "Factotial of number 5 is :\t120\n"
     ]
    }
   ],
   "source": [
    "inp=5\n",
    "f=1\n",
    "for i in range(inp):\n",
    "    f=f*(i+1)\n",
    "print(f'Factotial of number {inp} is :\\t{f}')"
   ]
  },
  {
   "cell_type": "markdown",
   "metadata": {},
   "source": [
    "# 7. Write a program to generate the following pattern:\n",
    "                *\n",
    "                **\n",
    "                ***\n",
    "                ****\n",
    "                *****"
   ]
  },
  {
   "cell_type": "code",
   "execution_count": 7,
   "metadata": {},
   "outputs": [
    {
     "name": "stdout",
     "output_type": "stream",
     "text": [
      "\n",
      "*\n",
      "**\n",
      "***\n",
      "****\n",
      "*****\n"
     ]
    }
   ],
   "source": [
    "a='*'\n",
    "for i in range(6):\n",
    "    print(a*i)\n",
    "    "
   ]
  },
  {
   "cell_type": "markdown",
   "metadata": {},
   "source": [
    "# 8. Write a program to generate the following pattern.\n",
    "                *\n",
    "               ***\n",
    "              *****\n",
    "             *******\n",
    "            *********"
   ]
  },
  {
   "cell_type": "code",
   "execution_count": 8,
   "metadata": {},
   "outputs": [
    {
     "name": "stdout",
     "output_type": "stream",
     "text": [
      "      *      \n",
      "     ***     \n",
      "    *****    \n",
      "   *******   \n",
      "  *********  \n"
     ]
    }
   ],
   "source": [
    "a='*'\n",
    "b=' '\n",
    "for i in range(5):\n",
    "    c=a*i\n",
    "    print(b*(5-i),(c*2)+a,b*(5-i))"
   ]
  },
  {
   "cell_type": "markdown",
   "metadata": {},
   "source": [
    "# 9. Write a program to generate the following pattern for given depth N.\n",
    "    \n",
    "__Input__:5\n",
    "\n",
    "__Output__:\n",
    "\n",
    "                *\n",
    "               ***\n",
    "              *****\n",
    "             *******\n",
    "            *********"
   ]
  },
  {
   "cell_type": "code",
   "execution_count": 9,
   "metadata": {
    "scrolled": true
   },
   "outputs": [
    {
     "name": "stdout",
     "output_type": "stream",
     "text": [
      "Enter the depth here : 9\n",
      "          *          \n",
      "         ***         \n",
      "        *****        \n",
      "       *******       \n",
      "      *********      \n",
      "     ***********     \n",
      "    *************    \n",
      "   ***************   \n",
      "  *****************  \n"
     ]
    }
   ],
   "source": [
    "a='*'\n",
    "b=' '\n",
    "n=int(input('Enter the depth here : '))\n",
    "for i in range(n):\n",
    "    c=a*i\n",
    "    d=n\n",
    "    print(b*(d-i),(c*2)+a,b*(d-i))"
   ]
  },
  {
   "cell_type": "markdown",
   "metadata": {},
   "source": [
    "# 10. Write a program to generate the following output.\n",
    "            1 \n",
    "            2 3 \n",
    "            3 4 5 \n",
    "            4 5 6 7 \n",
    "            5 6 7 8 9 "
   ]
  },
  {
   "cell_type": "code",
   "execution_count": 10,
   "metadata": {},
   "outputs": [
    {
     "name": "stdout",
     "output_type": "stream",
     "text": [
      "1 \n",
      "2 3 \n",
      "3 4 5 \n",
      "4 5 6 7 \n",
      "5 6 7 8 9 \n"
     ]
    }
   ],
   "source": [
    "a=1\n",
    "b=' '\n",
    "m=''\n",
    "for i in range(1,6):\n",
    "    for j in range(1,i+1):\n",
    "        n=str(i-1+j)+b\n",
    "        n=m+n\n",
    "        m=n\n",
    "    print(m)\n",
    "    m=''"
   ]
  },
  {
   "cell_type": "markdown",
   "metadata": {},
   "source": [
    "# 11. Write a program that accepts __N__ values and print it as a list\n",
    "    \n",
    "__Input__:\n",
    "                5\n",
    "                1\n",
    "                2\n",
    "                3\n",
    "                4\n",
    "                5\n",
    "__Output__: \n",
    "           [1,2,3,4,5]\n"
   ]
  },
  {
   "cell_type": "code",
   "execution_count": 11,
   "metadata": {
    "scrolled": true
   },
   "outputs": [
    {
     "name": "stdout",
     "output_type": "stream",
     "text": [
      "Enter the numbers here with spacing: 5 9 9 4 1 2\n",
      "[1, 2, 4, 5, 9]\n"
     ]
    }
   ],
   "source": [
    "inp=input('Enter the numbers here with spacing: ')\n",
    "#inp=str(inp)\n",
    "l=set()\n",
    "for i in inp:\n",
    "    if i==' ':\n",
    "        pass\n",
    "    else:\n",
    "        i=int(i)\n",
    "        l.add(i)\n",
    "        l1=[j for j in l]\n",
    "l1.sort()\n",
    "print(l1)"
   ]
  },
  {
   "cell_type": "code",
   "execution_count": 12,
   "metadata": {},
   "outputs": [
    {
     "name": "stdout",
     "output_type": "stream",
     "text": [
      "Enter the numbers here without space: 4987984656\n",
      "[4, 5, 6, 7, 8, 9]\n"
     ]
    }
   ],
   "source": [
    "inp=int(input('Enter the numbers here without space: '))\n",
    "inp=str(inp)\n",
    "l=set()\n",
    "for i in inp:\n",
    "    i=int(i)\n",
    "    l.add(i)\n",
    "    l1=[j for j in l]\n",
    "l1.sort()\n",
    "print(l1)"
   ]
  },
  {
   "cell_type": "markdown",
   "metadata": {},
   "source": [
    "# 12. Write a program to find the given number is __Armstrong number__ or not and print out as __'Yes'__ or __'No'__.\n",
    "    \n",
    "[__Hint__: Armstrong Number is sum of its own digits raised to power of 3]\n",
    "\n",
    "__Input__:153\n",
    "\n",
    "__Output__:Yes"
   ]
  },
  {
   "cell_type": "code",
   "execution_count": 13,
   "metadata": {},
   "outputs": [
    {
     "name": "stdout",
     "output_type": "stream",
     "text": [
      "Enter the number :153\n",
      "Yes\n"
     ]
    }
   ],
   "source": [
    "inp=int(input(\"Enter the number :\"))\n",
    "inp=str(inp)\n",
    "s=0\n",
    "for i in inp:\n",
    "    i=int(i)\n",
    "    m=i**3\n",
    "    s=s+m\n",
    "if s==int(inp):\n",
    "    print('Yes')\n",
    "else:\n",
    "    print('No')"
   ]
  },
  {
   "cell_type": "markdown",
   "metadata": {},
   "source": [
    "# 13. Write a program to find the  N th number of a __Arthematic Progression__ when initial number(__a__) and difference( **d** ) are given.\n",
    "\n",
    "__Input__: \n",
    "            The input is N, a, d each in newline\n",
    "                    4\n",
    "                    2\n",
    "                    3\n",
    "__Output__:\n",
    "            11\n"
   ]
  },
  {
   "cell_type": "code",
   "execution_count": 14,
   "metadata": {},
   "outputs": [
    {
     "name": "stdout",
     "output_type": "stream",
     "text": [
      "Enter N : 4\n",
      "11\n"
     ]
    }
   ],
   "source": [
    "a=2\n",
    "d=3\n",
    "n=int(input('Enter N : '))\n",
    "\n",
    "if n<1:\n",
    "    print('You have enter wrong number')\n",
    "elif n==1:\n",
    "    print(a)\n",
    "else:\n",
    "    m=a+((n-1)*d)\n",
    "    print(m)"
   ]
  },
  {
   "cell_type": "markdown",
   "metadata": {},
   "source": [
    "# 14. Write a program to generate a sequence of __N__ numbers of a geometric progression when intial number ( **a** ) and common ratio( __r__ ) is given. print the sequence as a list.\n",
    "\n",
    "   __Input__:\n",
    "       The input is N,a,r seperated by comma.\n",
    "               5,2,3                   \n",
    "   __Output__:"
   ]
  },
  {
   "cell_type": "code",
   "execution_count": 16,
   "metadata": {},
   "outputs": [
    {
     "name": "stdout",
     "output_type": "stream",
     "text": [
      "[2, 6, 18, 54, 162]\n"
     ]
    }
   ],
   "source": [
    "inp='5,2,3'\n",
    "inp=[int(i) for i in str.split(inp,',')]\n",
    "l=[]\n",
    "\n",
    "for i in range(inp[0]):\n",
    "    t=inp[1]*(inp[2]**(i))\n",
    "    l.append(t)\n",
    "print(l)"
   ]
  },
  {
   "cell_type": "markdown",
   "metadata": {},
   "source": [
    "# 15. Write a program that calculate number of lowercase, uppercase and numbers alphabets.\n",
    "    \n",
    "__Input__:Happy Birthday Draven! Now you are 26.\n",
    "\n",
    "__Output__:\n",
    "\n",
    "    Uppercase characters:  4\n",
    "    Lowercase characters:  24\n",
    "    Numbers:  2"
   ]
  },
  {
   "cell_type": "code",
   "execution_count": 17,
   "metadata": {},
   "outputs": [
    {
     "name": "stdout",
     "output_type": "stream",
     "text": [
      "Uppercase characters : 4\n",
      "Lowercase characters : 24\n",
      "Numbers : 2\n"
     ]
    }
   ],
   "source": [
    "inp='Happy Birthday Draven! Now you are 26.'\n",
    "u,l,n=0,0,0\n",
    "for i in inp:\n",
    "    if i.isupper():\n",
    "        u=u+1\n",
    "    elif i.islower():\n",
    "        l=l+1\n",
    "    elif i.isnumeric():\n",
    "        n=n+1\n",
    "    else:\n",
    "        pass\n",
    "print(f'Uppercase characters : {u}\\nLowercase characters : {l}\\nNumbers : {n}')"
   ]
  },
  {
   "cell_type": "markdown",
   "metadata": {},
   "source": [
    "# 16. Write a program to find whether a given string is palindrome or not\n",
    "    \n",
    "__Input__: madam\n",
    "\n",
    "__Output__: Yes"
   ]
  },
  {
   "cell_type": "code",
   "execution_count": 18,
   "metadata": {},
   "outputs": [
    {
     "name": "stdout",
     "output_type": "stream",
     "text": [
      "Enter the name hare : nayan\n",
      "Yes\n"
     ]
    }
   ],
   "source": [
    "s=input('Enter the name hare : ')\n",
    "s=s.lower()\n",
    "st=''\n",
    "for i in s:\n",
    "    st=i+st\n",
    "if s==st:\n",
    "    print('Yes')\n",
    "else:\n",
    "    print('No')"
   ]
  },
  {
   "cell_type": "markdown",
   "metadata": {},
   "source": [
    "# 17. Write a program that accepts a sequence of numbers and print the numbers after sorting them seperated by comma.\n",
    "    \n",
    "__Input__:\n",
    "            5\n",
    "            2\n",
    "            3\n",
    "            7\n",
    "            4\n",
    "__Output__:\n",
    "            2,3,4,5,7"
   ]
  },
  {
   "cell_type": "code",
   "execution_count": 19,
   "metadata": {},
   "outputs": [
    {
     "name": "stdout",
     "output_type": "stream",
     "text": [
      "Enter the Sequence with space : 5 2 3 7 4\n",
      "5,2,3,7,4\n"
     ]
    }
   ],
   "source": [
    "inp=input('Enter the Sequence with space : ')\n",
    "\n",
    "out=''\n",
    "for i in inp:\n",
    "    o=''\n",
    "    if i!=' ':\n",
    "        if i!=inp[-1]:\n",
    "            o=o+i+','\n",
    "            out=out+o\n",
    "            o=''\n",
    "        else:\n",
    "            o=o+i\n",
    "            out=out+o\n",
    "            o=''\n",
    "print(out)"
   ]
  },
  {
   "cell_type": "markdown",
   "metadata": {},
   "source": [
    "# 18. Given below a list of integers, find the triplets whose sum if equal to __zero__ and print them as tuples.\n",
    "    \n",
    "[0, 2, 3, 4, 5, 6, 9, -1, -9, -7, -6, -5, -4, -3, -2]\n",
    "\n",
    "__Example__:\n",
    "\n",
    "[4,0,-2,-1,2,3]\n",
    "\n",
    "__Output__:\n",
    "\n",
    "(4,-2,-2)\n",
    "\n",
    "(-2,0,2)\n",
    "\n",
    "(-2,-1,3)"
   ]
  },
  {
   "cell_type": "code",
   "execution_count": 20,
   "metadata": {
    "scrolled": true
   },
   "outputs": [
    {
     "name": "stdout",
     "output_type": "stream",
     "text": [
      "(4, -2, -2)\n",
      "(0, 0, 0)\n",
      "(0, -2, 2)\n",
      "(0, 2, -2)\n",
      "(-2, 4, -2)\n",
      "(-2, 0, 2)\n",
      "(-2, -2, 4)\n",
      "(-2, -1, 3)\n",
      "(-2, 2, 0)\n",
      "(-2, 3, -1)\n",
      "(-1, -2, 3)\n",
      "(-1, -1, 2)\n",
      "(-1, 2, -1)\n",
      "(-1, 3, -2)\n",
      "(2, 0, -2)\n",
      "(2, -2, 0)\n",
      "(2, -1, -1)\n",
      "(3, -2, -1)\n",
      "(3, -1, -2)\n"
     ]
    }
   ],
   "source": [
    "l=[4,0,-2,-1,2,3]\n",
    "l1=[0,0,0]\n",
    "for i in l:\n",
    "    for j in l:\n",
    "        for k in l:\n",
    "            l1[0]=i\n",
    "            l1[1]=j\n",
    "            l1[2]=k\n",
    "            s=sum(l1)\n",
    "            if s==0:\n",
    "                print(tuple(l1))\n",
    "    "
   ]
  },
  {
   "cell_type": "markdown",
   "metadata": {},
   "source": [
    "# 19. Using for loop print aplhabets from a-z seperated by space."
   ]
  },
  {
   "cell_type": "code",
   "execution_count": 21,
   "metadata": {},
   "outputs": [
    {
     "name": "stdout",
     "output_type": "stream",
     "text": [
      "a b c d e f g h i j k l m n o p q r s t u v w x y z "
     ]
    }
   ],
   "source": [
    "for i in range(97,123):\n",
    "    print(chr(i),end=' ')"
   ]
  },
  {
   "cell_type": "markdown",
   "metadata": {},
   "source": [
    "# 20. Given below are two sets **A** and __B__. Find the intersection and print whether is it possible to generate 'sample' from the output or not.\n",
    "    \n",
    "    A={'c', 'a', 'd', 'e', 'k', 'r', 'u', 'q', 'r', 'y'}\n",
    "    \n",
    "    B={'b', 'h', 'k', 'a', 'd', 'e', 'k', 'r', 'u'}\n",
    "    "
   ]
  },
  {
   "cell_type": "code",
   "execution_count": 22,
   "metadata": {},
   "outputs": [
    {
     "name": "stdout",
     "output_type": "stream",
     "text": [
      "{'d', 'u', 'r', 'a', 'e', 'k'}\n",
      "sample is possible\n"
     ]
    }
   ],
   "source": [
    "A={'c', 'a', 'd', 'e', 'k', 'r', 'u', 'q', 'r', 'y'}\n",
    "B={'b', 'h', 'k', 'a', 'd', 'e', 'k', 'r', 'u'}\n",
    "C=A.intersection(B)\n",
    "print(C)\n",
    "if len(C)>=1:\n",
    "    print('sample is possible')"
   ]
  },
  {
   "cell_type": "markdown",
   "metadata": {},
   "source": [
    "# 21. Write a program which accepts a string from console and print it in reverse order.\n",
    "        \n",
    "__Input__:\n",
    "           Always keep one finger on the Escape key\n",
    "\n",
    "__Output__:\n",
    "            yek epacsE eht no regnif eno peek syawlA \n",
    "            \n",
    "__Difficulty__: Easy\n"
   ]
  },
  {
   "cell_type": "code",
   "execution_count": 24,
   "metadata": {},
   "outputs": [
    {
     "name": "stdout",
     "output_type": "stream",
     "text": [
      "Enter the character here : Always keep one finger on the Escape key\n",
      "yek epacsE eht no regnif eno peek syawlA\n"
     ]
    }
   ],
   "source": [
    "inp=input(\"Enter the character here : \")\n",
    "s=''\n",
    "for i in inp:\n",
    "    s=i+s\n",
    "print(s)"
   ]
  },
  {
   "cell_type": "markdown",
   "metadata": {},
   "source": [
    "# 22. Write a program which accepts a string from console and print the words in reverse order.\n",
    "\n",
    "__Input__:\n",
    "\n",
    "   Always keep one finger on the Escape key\n",
    "\n",
    "__Output__:\n",
    "\n",
    "syawlA peek eno regnif no eht epacsE yek\n",
    "\n",
    "__Difficulty__: Easy"
   ]
  },
  {
   "cell_type": "code",
   "execution_count": 25,
   "metadata": {},
   "outputs": [
    {
     "name": "stdout",
     "output_type": "stream",
     "text": [
      "Enter the sentence here : Always keep one finger on the Escape key\n",
      "syawlA peek eno regnif no eht epacsE yek \n"
     ]
    }
   ],
   "source": [
    "inp=input('Enter the sentence here : ')\n",
    "l=[i for i in inp.split(' ')]\n",
    "t=''\n",
    "f=''\n",
    "for i in l:\n",
    "    for j in i:\n",
    "        t=j+t\n",
    "    f=f+t+' '\n",
    "    t=''\n",
    "print(f)"
   ]
  },
  {
   "cell_type": "markdown",
   "metadata": {},
   "source": [
    "# 23. Write a program to calculate the numbers between __X__ and **Y** which are divisible by 5 and 13 but not divisible by 10  seperated by space.\n",
    "       \n",
    "   __Input__: X and Y are seperated by space:\n",
    "\n",
    "   50 200\n",
    "\n",
    "   __Output__:\n",
    "\n",
    "   65 195 "
   ]
  },
  {
   "cell_type": "code",
   "execution_count": 26,
   "metadata": {},
   "outputs": [
    {
     "name": "stdout",
     "output_type": "stream",
     "text": [
      "write vaues separated by space50 200\n",
      "65\n",
      "195\n"
     ]
    }
   ],
   "source": [
    "inp=input('write vaues separated by space')\n",
    "a=''\n",
    "b=[]\n",
    "for i in inp:\n",
    "    if i==' ':\n",
    "        b.append(int(a))\n",
    "        a=''\n",
    "    else:\n",
    "        a=a+i\n",
    "b.append(int(a))\n",
    "b\n",
    "for i in range(b[0],b[1]):\n",
    "    if i%10!=0:\n",
    "        if i%5==0 and i%13==0:\n",
    "            print(i)"
   ]
  },
  {
   "cell_type": "markdown",
   "metadata": {},
   "source": [
    "# 24. Write a program to calculate all possible permutations for a given sequence of numbers.\n",
    "\n",
    "__Input__: N is length of sequence and next line contains sequence seperated by space.\n",
    "            3\n",
    "            4,6,2\n",
    "\n",
    "__Output__:\n",
    "[[2, 6, 4], [6, 2, 4], [6, 4, 2], [2, 4, 6], [4, 2, 6], [4, 6, 2]]\n"
   ]
  },
  {
   "cell_type": "code",
   "execution_count": 27,
   "metadata": {},
   "outputs": [
    {
     "name": "stdout",
     "output_type": "stream",
     "text": [
      "[[4, 6, 2], [4, 2, 6], [6, 4, 2], [6, 2, 4], [2, 4, 6], [2, 6, 4]]\n"
     ]
    }
   ],
   "source": [
    "inp=[4,6,2]\n",
    "out=[]\n",
    "o=[4,6,2]\n",
    "for i in inp:\n",
    "    for j in inp:\n",
    "        for k in inp:\n",
    "            o[0]=i\n",
    "            o[1]=j\n",
    "            o[2]=k\n",
    "            if o[0]==o[1] or o[1]==o[2] or o[0]==o[2]:\n",
    "                pass\n",
    "            else:\n",
    "                \n",
    "                s=list(o)\n",
    "                out.append(s)\n",
    "\n",
    "print(out)"
   ]
  },
  {
   "cell_type": "markdown",
   "metadata": {},
   "source": [
    "# 25. Samantha represents the performance of students using dictionary in tests as follows:\n",
    "        {'English':{'Sam':60,'Jackson':74}, 'History':{'Gloria':83,'Sam':35} ,....}\n",
    "    Your task is to create a dictionary with student names as keys and their average marks from all subjects. Consider the below dictionary as input.\n",
    "    \n",
    "    \n",
    "    {'English':{'Sam':60,'Jackson':74,'Ahree':85}, \n",
    "     'History':{'Gloria':83,'Sam':65,'Isla':78,'Aron':72,'Gray':61},\n",
    "     'Geography':{'Jackson':92,'Gloria':95,'Isla':82,'Aron':75,'Ahree':76},\n",
    "     'Mathematics':{'Sam':99,'Gloria':74,'Jackson':89,'Ahree':85,'Gray':95},\n",
    "     'Science':{'Sam':89,'Aron':82,'Gray':78,'Isla':93,'Ahree':87}\n",
    "    }"
   ]
  },
  {
   "cell_type": "code",
   "execution_count": 28,
   "metadata": {},
   "outputs": [],
   "source": [
    "inp={'English':{'Sam':60,'Jackson':74,'Ahree':85}, \n",
    " 'History':{'Gloria':83,'Sam':65,'Isla':78,'Aron':72,'Gray':61},\n",
    " 'Geography':{'Jackson':92,'Gloria':95,'Isla':82,'Aron':75,'Ahree':76},\n",
    " 'Mathematics':{'Sam':99,'Gloria':74,'Jackson':89,'Ahree':85,'Gray':95},\n",
    " 'Science':{'Sam':89,'Aron':82,'Gray':78,'Isla':93,'Ahree':87}\n",
    "}"
   ]
  },
  {
   "cell_type": "code",
   "execution_count": 29,
   "metadata": {},
   "outputs": [
    {
     "name": "stdout",
     "output_type": "stream",
     "text": [
      "{'Ahree': {'Average Marks': 83.25}}\n",
      "{'Isla': {'Average Marks': 84.33333333333333}}\n",
      "{'Gloria': {'Average Marks': 84.0}}\n",
      "{'Sam': {'Average Marks': 78.25}}\n",
      "{'Jackson': {'Average Marks': 85.0}}\n",
      "{'Aron': {'Average Marks': 76.33333333333333}}\n",
      "{'Gray': {'Average Marks': 78.0}}\n"
     ]
    }
   ],
   "source": [
    "stu=list(set([v for val in inp.values() for v in val]))\n",
    "for i in stu:\n",
    "    marks=[val[i] for key,val in inp.items() if i in val]\n",
    "    avg=sum(marks)/len(marks)\n",
    "    D={'Average Marks':avg}\n",
    "    D={i:D}\n",
    "    print(D)"
   ]
  },
  {
   "cell_type": "markdown",
   "metadata": {},
   "source": [
    "# 26. Create a dictionary from the following keys:\n",
    "      'Name', 'Class', 'Age' \n",
    "      \n",
    "     with empty lists and input the data of five students."
   ]
  },
  {
   "cell_type": "code",
   "execution_count": 30,
   "metadata": {},
   "outputs": [
    {
     "data": {
      "text/plain": [
       "{'Name': ['Sam', 'Gray', 'Ishla', 'Aron', 'Aree'],\n",
       " 'Class': [5, 6, 7, 8, 9],\n",
       " 'Age': [12, 13, 14, 15, 16]}"
      ]
     },
     "execution_count": 30,
     "metadata": {},
     "output_type": "execute_result"
    }
   ],
   "source": [
    "dic={'Name':[],'Class':[],'Age':[]}\n",
    "dic['Name']=['Sam','Gray','Ishla','Aron','Aree']\n",
    "dic['Class']=[5,6,7,8,9]\n",
    "dic['Age']=[12,13,14,15,16]\n",
    "dic"
   ]
  },
  {
   "cell_type": "markdown",
   "metadata": {},
   "source": [
    "# 27. Write a program to concatenate the following dictionaries:\n",
    "\n",
    "    dict1={'A':10, 'B':20}\n",
    "    \n",
    "    dict2={'C':30, 'D':40} \n",
    "    \n",
    "    dict3={'E':50,'F':60}"
   ]
  },
  {
   "cell_type": "code",
   "execution_count": 31,
   "metadata": {},
   "outputs": [
    {
     "data": {
      "text/plain": [
       "{'A': 10, 'B': 20, 'C': 30, 'D': 40, 'E': 50, 'F': 60}"
      ]
     },
     "execution_count": 31,
     "metadata": {},
     "output_type": "execute_result"
    }
   ],
   "source": [
    "dict1={'A':10, 'B':20}\n",
    "dict2={'C':30, 'D':40} \n",
    "dict3={'E':50,'F':60}\n",
    "\n",
    "l=[dict1,dict2,dict3]\n",
    "dic={key:val for i in l for key,val in i.items()}\n",
    "dic"
   ]
  },
  {
   "cell_type": "markdown",
   "metadata": {},
   "source": [
    "# 28. Write a program to generate prime numbers from 1 to 1000 and save them to a text file. Read N lines of the previous file."
   ]
  },
  {
   "cell_type": "code",
   "execution_count": 32,
   "metadata": {},
   "outputs": [
    {
     "name": "stdout",
     "output_type": "stream",
     "text": [
      "No.of Prime numbers between 0-1000 is : 168\n",
      "\n",
      "[2, 3, 5, 7, 11, 13, 17, 19, 23, 29, 31, 37, 41, 43, 47, 53, 59, 61, 67, 71, 73, 79, 83, 89, 97, 101, 103, 107, 109, 113, 127, 131, 137, 139, 149, 151, 157, 163, 167, 173, 179, 181, 191, 193, 197, 199, 211, 223, 227, 229, 233, 239, 241, 251, 257, 263, 269, 271, 277, 281, 283, 293, 307, 311, 313, 317, 331, 337, 347, 349, 353, 359, 367, 373, 379, 383, 389, 397, 401, 409, 419, 421, 431, 433, 439, 443, 449, 457, 461, 463, 467, 479, 487, 491, 499, 503, 509, 521, 523, 541, 547, 557, 563, 569, 571, 577, 587, 593, 599, 601, 607, 613, 617, 619, 631, 641, 643, 647, 653, 659, 661, 673, 677, 683, 691, 701, 709, 719, 727, 733, 739, 743, 751, 757, 761, 769, 773, 787, 797, 809, 811, 821, 823, 827, 829, 839, 853, 857, 859, 863, 877, 881, 883, 887, 907, 911, 919, 929, 937, 941, 947, 953, 967, 971, 977, 983, 991, 997]\n"
     ]
    }
   ],
   "source": [
    "prime=[]\n",
    "for i in range(1001):\n",
    "    j=2\n",
    "    if i==2:\n",
    "        prime.append(i)\n",
    "    else:\n",
    "        while j<i:\n",
    "            if i%j!=0:\n",
    "                k=0\n",
    "                j+=1\n",
    "            else:\n",
    "                k=1\n",
    "                break\n",
    "        if k==0:\n",
    "            prime.append(i)\n",
    "print(f'No.of Prime numbers between 0-{i} is : {len(prime)}\\n')\n",
    "print(prime)\n",
    "            "
   ]
  },
  {
   "cell_type": "markdown",
   "metadata": {},
   "source": [
    "# 29. Write a program to generate numbers from 1 to 1000 and save them to a text file. Read the previous file and print only armstrong numbers."
   ]
  },
  {
   "cell_type": "code",
   "execution_count": 33,
   "metadata": {},
   "outputs": [
    {
     "name": "stdout",
     "output_type": "stream",
     "text": [
      "1\n",
      "153\n",
      "370\n",
      "370\n",
      "371\n",
      "407\n"
     ]
    }
   ],
   "source": [
    "num=[i+1 for i in range(1000)]\n",
    "with open('temp.txt',mode='w') as file:\n",
    "    for i in num:\n",
    "        file.write(str(i)+' ')\n",
    "        \n",
    "with open('temp.txt',mode='r') as file1:\n",
    "    for i in str.split(file1.read()):\n",
    "        k=0\n",
    "        for j in i:\n",
    "            j=int(j)**3\n",
    "            k+=j\n",
    "            if k==int(i):\n",
    "                print(i)"
   ]
  },
  {
   "cell_type": "markdown",
   "metadata": {},
   "source": [
    "# 30. Create a game of Rock, Papers and Scissors against computer using Python. Rules for the game are given as follows:\n",
    "- Rock beats Scissor\n",
    "- Scissor beats Paper\n",
    "- Paper beats Rock\n",
    "\n",
    "If the play loses ask him either he wants to payback or not. If the response is __'Yes'__ then continue the game.  Input moves as __R for Rock, P for Paper and S for scissors__. Response to every move should be proper example:\n",
    "\n",
    "__Input__:\n",
    "\n",
    "            R S\n",
    "\n",
    "__Output__:\n",
    "            Win\n",
    "            Play Again?\n",
    "Here, Player has the option to play one more game to defeat computer or leave the game."
   ]
  },
  {
   "cell_type": "code",
   "execution_count": 36,
   "metadata": {},
   "outputs": [
    {
     "name": "stdout",
     "output_type": "stream",
     "text": [
      "Give Input : R S\n",
      "Win Play Again?\n",
      "------------------------------------------------\n",
      "yes or no : no\n"
     ]
    }
   ],
   "source": [
    "def game():\n",
    "    play=input('Give Input : ')\n",
    "    [i,j]=str.split(play)\n",
    "    if (i=='R' and j=='S') or (i=='S' and j=='P') or (i=='P' and j=='R'):\n",
    "        print('Win Play Again?')\n",
    "        print('------------------------------------------------')\n",
    "        inp=input('yes or no : ')\n",
    "        if inp=='yes':\n",
    "            game()\n",
    "    else:\n",
    "        print('Loss Play Again?')\n",
    "        print('------------------------------------------------')\n",
    "        inp=input('yes or no : ')\n",
    "        if inp=='yes':\n",
    "            game()\n",
    "game()"
   ]
  },
  {
   "cell_type": "markdown",
   "metadata": {},
   "source": [
    "# 31. Write a program to create a pandas series from range __X__ to **Y**.    \n",
    "__Input__: Range X and Y is given in single line seperated with a space\n",
    "        10 20\n",
    "\n",
    "__Ouput__: \n",
    "\n",
    "0    10\n",
    "\n",
    "1    11\n",
    "\n",
    "2    12\n",
    "\n",
    "3    13\n",
    "\n",
    "4    14\n",
    "\n",
    "5    15\n",
    "\n",
    "6    16\n",
    "\n",
    "7    17\n",
    "\n",
    "8    18\n",
    "\n",
    "9    19\n",
    "\n",
    "10   20\n",
    "\n",
    "dtype: int32"
   ]
  },
  {
   "cell_type": "code",
   "execution_count": 37,
   "metadata": {},
   "outputs": [
    {
     "data": {
      "text/plain": [
       "0     10\n",
       "1     11\n",
       "2     12\n",
       "3     13\n",
       "4     14\n",
       "5     15\n",
       "6     16\n",
       "7     17\n",
       "8     18\n",
       "9     19\n",
       "10    20\n",
       "dtype: int64"
      ]
     },
     "execution_count": 37,
     "metadata": {},
     "output_type": "execute_result"
    }
   ],
   "source": [
    "import pandas as pd\n",
    "pd.Series([i for i in range(10,21)])"
   ]
  },
  {
   "cell_type": "markdown",
   "metadata": {},
   "source": [
    "# 32.  Write a Python program to add, subtract, multiple and divide two Pandas Series.\n",
    "\n",
    "__Input__: Two series in each line\n",
    "        1, 2, 3, 4, 5\n",
    "        6, 7, 8, 9, 10\n",
    "__Output__:\n",
    "\n",
    "        Addition:  0     7\n",
    "            1     9\n",
    "            2    11\n",
    "            3    13\n",
    "            4    15\n",
    "            dtype: int64\n",
    "            Substraction:  0   -5\n",
    "            1   -5\n",
    "            2   -5\n",
    "            3   -5\n",
    "            4   -5\n",
    "            dtype: int64\n",
    "            Multiplication:  0     6\n",
    "            1    14\n",
    "            2    24\n",
    "            3    36\n",
    "            4    50\n",
    "            dtype: int64\n",
    "            Division:  0    0.166667\n",
    "            1    0.285714\n",
    "            2    0.375000\n",
    "            3    0.444444\n",
    "            4    0.500000\n",
    "            dtype: float64"
   ]
  },
  {
   "cell_type": "code",
   "execution_count": 38,
   "metadata": {},
   "outputs": [
    {
     "ename": "NameError",
     "evalue": "name 'addition' is not defined",
     "output_type": "error",
     "traceback": [
      "\u001b[1;31m---------------------------------------------------------------------------\u001b[0m",
      "\u001b[1;31mNameError\u001b[0m                                 Traceback (most recent call last)",
      "\u001b[1;32m~\\AppData\\Local\\Temp/ipykernel_3708/1785239421.py\u001b[0m in \u001b[0;36m<module>\u001b[1;34m\u001b[0m\n\u001b[0;32m      2\u001b[0m \u001b[0mser2\u001b[0m\u001b[1;33m=\u001b[0m\u001b[0mpd\u001b[0m\u001b[1;33m.\u001b[0m\u001b[0mSeries\u001b[0m\u001b[1;33m(\u001b[0m\u001b[1;33m[\u001b[0m\u001b[1;36m6\u001b[0m\u001b[1;33m,\u001b[0m\u001b[1;36m7\u001b[0m\u001b[1;33m,\u001b[0m\u001b[1;36m8\u001b[0m\u001b[1;33m,\u001b[0m\u001b[1;36m9\u001b[0m\u001b[1;33m,\u001b[0m\u001b[1;36m10\u001b[0m\u001b[1;33m]\u001b[0m\u001b[1;33m)\u001b[0m\u001b[1;33m\u001b[0m\u001b[1;33m\u001b[0m\u001b[0m\n\u001b[0;32m      3\u001b[0m \u001b[0madd\u001b[0m\u001b[1;33m=\u001b[0m\u001b[0mser1\u001b[0m\u001b[1;33m+\u001b[0m\u001b[0mser2\u001b[0m\u001b[1;33m\u001b[0m\u001b[1;33m\u001b[0m\u001b[0m\n\u001b[1;32m----> 4\u001b[1;33m \u001b[0mprint\u001b[0m\u001b[1;33m(\u001b[0m\u001b[1;34m'Addition : '\u001b[0m\u001b[1;33m,\u001b[0m\u001b[0maddition\u001b[0m\u001b[1;33m)\u001b[0m\u001b[1;33m\u001b[0m\u001b[1;33m\u001b[0m\u001b[0m\n\u001b[0m\u001b[0;32m      5\u001b[0m \u001b[1;33m\u001b[0m\u001b[0m\n\u001b[0;32m      6\u001b[0m \u001b[0msub\u001b[0m\u001b[1;33m=\u001b[0m\u001b[0mser1\u001b[0m\u001b[1;33m-\u001b[0m\u001b[0mser2\u001b[0m\u001b[1;33m\u001b[0m\u001b[1;33m\u001b[0m\u001b[0m\n",
      "\u001b[1;31mNameError\u001b[0m: name 'addition' is not defined"
     ]
    }
   ],
   "source": [
    "ser1=pd.Series([1,2,3,4,5])\n",
    "ser2=pd.Series([6,7,8,9,10])\n",
    "add=ser1+ser2\n",
    "print('Addition : ',addition)\n",
    "\n",
    "sub=ser1-ser2\n",
    "print('Subtraction : ',sub)\n",
    "\n",
    "mul=ser1*ser2\n",
    "print('Multiplication : ',mul)\n",
    "\n",
    "div=ser1/ser2\n",
    "print('Division : ',div)"
   ]
  },
  {
   "cell_type": "markdown",
   "metadata": {},
   "source": [
    "# 33. From the raw data below create a Pandas Series\n",
    " \n",
    "         [ '  Aron’, 'Jackson   ', '   Ahree   ', 'Sam']\n",
    " \n",
    "   - Print all elements after stripping spaces from the left and right\n",
    "   - Print all the elements after removing spaces from the left only\n",
    "   - Print all the elements after removing spaces from the right only"
   ]
  },
  {
   "cell_type": "code",
   "execution_count": null,
   "metadata": {
    "scrolled": true
   },
   "outputs": [],
   "source": [
    "inp=[ '  Aron', 'Jackson   ', '   Ahree   ', 'Sam']\n",
    "s=pd.Series([str.strip(i) for i in inp])\n",
    "print(f'Print all elements after stripping spaces from the left and right :\\n{s}\\n')\n",
    "\n",
    "l=pd.Series([str.lstrip(i) for i in inp])\n",
    "print(f'Print all the elements after removing spaces from the left only :\\n{l}\\n')\n",
    "\n",
    "r=pd.Series([str.rstrip(i) for i in inp])\n",
    "print(f'Print all the elements after removing spaces from the right only :\\n{r}\\n')"
   ]
  },
  {
   "cell_type": "markdown",
   "metadata": {},
   "source": [
    "# 34. Write a program to convert a dictionary into Pandas Series.\n",
    "   \n",
    "\n",
    "__Input__:{'Sam':89,'Aron':82,'Gray':78,'Isla':93,'Ahree':87}\n",
    "\n",
    "__Output__:\n",
    "\n",
    "                Sam      89\n",
    "                Aron     82\n",
    "                Gray     78\n",
    "                Isla     93\n",
    "                Ahree    87\n",
    "                dtype: int64"
   ]
  },
  {
   "cell_type": "code",
   "execution_count": 39,
   "metadata": {},
   "outputs": [
    {
     "data": {
      "text/html": [
       "<div>\n",
       "<style scoped>\n",
       "    .dataframe tbody tr th:only-of-type {\n",
       "        vertical-align: middle;\n",
       "    }\n",
       "\n",
       "    .dataframe tbody tr th {\n",
       "        vertical-align: top;\n",
       "    }\n",
       "\n",
       "    .dataframe thead th {\n",
       "        text-align: right;\n",
       "    }\n",
       "</style>\n",
       "<table border=\"1\" class=\"dataframe\">\n",
       "  <thead>\n",
       "    <tr style=\"text-align: right;\">\n",
       "      <th></th>\n",
       "      <th>Sam</th>\n",
       "      <th>Aron</th>\n",
       "      <th>Gray</th>\n",
       "      <th>Isla</th>\n",
       "      <th>Ahree</th>\n",
       "    </tr>\n",
       "  </thead>\n",
       "  <tbody>\n",
       "    <tr>\n",
       "      <th>0</th>\n",
       "      <td>89</td>\n",
       "      <td>82</td>\n",
       "      <td>78</td>\n",
       "      <td>93</td>\n",
       "      <td>87</td>\n",
       "    </tr>\n",
       "  </tbody>\n",
       "</table>\n",
       "</div>"
      ],
      "text/plain": [
       "   Sam  Aron  Gray  Isla  Ahree\n",
       "0   89    82    78    93     87"
      ]
     },
     "execution_count": 39,
     "metadata": {},
     "output_type": "execute_result"
    }
   ],
   "source": [
    "pd.DataFrame({'Sam':89,'Aron':82,'Gray':78,'Isla':93,'Ahree':87},index=[0])"
   ]
  },
  {
   "cell_type": "markdown",
   "metadata": {},
   "source": [
    "# 35. Write a program to convert the below dictionary into DataFrame and print head(2) and tail(2) of the DataFrame.\n",
    "    \n",
    "__Input__:\n",
    "{'Name':['Sameer','Leona','Samuel','Jackson','Gray','Sylphia'],\n",
    " 'Class':[11,11,12,12,11,12],\n",
    "'Age':[17,17,18,19,17,21,23]\n",
    "}\n",
    "\n",
    "__Output__:\n",
    "\n",
    "           Name      Class     Age\n",
    "        0   Sameer     11       17\n",
    "        1   Leona      11       17\n",
    "           Name      Class     Age\n",
    "        4   Gray       11       21\n",
    "        5   Sylphia    12       23"
   ]
  },
  {
   "cell_type": "code",
   "execution_count": 40,
   "metadata": {},
   "outputs": [
    {
     "name": "stdout",
     "output_type": "stream",
     "text": [
      "     Name  Class  Age\n",
      "0  Sameer     11   17\n",
      "1   Leona     11   17\n",
      "      Name  Class  Age\n",
      "4     Gray     11   21\n",
      "5  Sylphia     12   23\n"
     ]
    }
   ],
   "source": [
    "df=pd.DataFrame({'Name':['Sameer','Leona','Samuel','Jackson','Gray','Sylphia'],\n",
    "                   'Class':[11,11,12,12,11,12],\n",
    "                   'Age':[17,17,18,19,21,23] })\n",
    "print(df.head(2))\n",
    "print(df.tail(2))"
   ]
  }
 ],
 "metadata": {
  "kernelspec": {
   "display_name": "Python 3 (ipykernel)",
   "language": "python",
   "name": "python3"
  },
  "language_info": {
   "codemirror_mode": {
    "name": "ipython",
    "version": 3
   },
   "file_extension": ".py",
   "mimetype": "text/x-python",
   "name": "python",
   "nbconvert_exporter": "python",
   "pygments_lexer": "ipython3",
   "version": "3.9.7"
  },
  "toc": {
   "base_numbering": 1,
   "nav_menu": {},
   "number_sections": false,
   "sideBar": true,
   "skip_h1_title": false,
   "title_cell": "Table of Contents",
   "title_sidebar": "Contents",
   "toc_cell": false,
   "toc_position": {
    "height": "calc(100% - 180px)",
    "left": "10px",
    "top": "150px",
    "width": "165px"
   },
   "toc_section_display": true,
   "toc_window_display": true
  }
 },
 "nbformat": 4,
 "nbformat_minor": 2
}
