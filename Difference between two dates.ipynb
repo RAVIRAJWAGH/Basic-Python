{
 "cells": [
  {
   "cell_type": "markdown",
   "id": "5d3463f2",
   "metadata": {},
   "source": [
    "# __Write a python script to find difference between two dates.__\n",
    "\n",
    "<b> Example:\n",
    "    \n",
    "    Input: Enter a date in YYYY-MM-DD format: 2018-01-02\n",
    "           Enter a date in YYYY-MM-DD format: 2018-02-02\n",
    " \n",
    "    Output: 31 days "
   ]
  },
  {
   "cell_type": "code",
   "execution_count": null,
   "id": "f07f75f9",
   "metadata": {},
   "outputs": [],
   "source": [
    "import datetime\n",
    "A=input('Enter a date in YYYY-MM-DD format: ')\n",
    "B=input('Enter a date in YYYY-MM-DD format: ')\n",
    "regex=r'[0-9]{4}-[0-9]{2}-[0-9]{2}'\n",
    "\n",
    "temp=[A,B]\n",
    "if re.fullmatch(regex,temp[0]) and re.fullmatch(regex,temp[1]):\n",
    "    Al=[int(i) for i in str.split(A,'-')]\n",
    "    Bl=[int(i) for i in str.split(B,'-')]\n",
    "\n",
    "    a=datetime.datetime(Al[0],Al[1],Al[2])\n",
    "    b=datetime.datetime(Bl[0],Bl[1],Bl[2])\n",
    "\n",
    "    d=abs(a-b)\n",
    "    print(f'\\n{d.days} days')\n",
    "else:\n",
    "    print('\\nInvalid Input')"
   ]
  }
 ],
 "metadata": {
  "kernelspec": {
   "display_name": "Python 3 (ipykernel)",
   "language": "python",
   "name": "python3"
  },
  "language_info": {
   "codemirror_mode": {
    "name": "ipython",
    "version": 3
   },
   "file_extension": ".py",
   "mimetype": "text/x-python",
   "name": "python",
   "nbconvert_exporter": "python",
   "pygments_lexer": "ipython3",
   "version": "3.9.7"
  }
 },
 "nbformat": 4,
 "nbformat_minor": 5
}
