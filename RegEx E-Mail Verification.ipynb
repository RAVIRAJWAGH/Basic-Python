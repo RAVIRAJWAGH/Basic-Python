{
 "cells": [
  {
   "cell_type": "markdown",
   "id": "79c12cf4",
   "metadata": {},
   "source": [
    "# Python script to verify Email-ID syntax\n",
    "<b> Example: \n",
    "    \n",
    "    Input: Enter text: john.doe@gmail.com\n",
    "    \n",
    "    Output: ['john.doe@gmail.com']"
   ]
  },
  {
   "cell_type": "code",
   "execution_count": null,
   "id": "4d2a644d",
   "metadata": {},
   "outputs": [],
   "source": [
    "import re\n",
    "regex = r'\\b[A-Za-z0-9._%+-]+@[A-Za-z0-9.-]+\\.[A-Z|a-z]{2,}\\b'\n",
    "\n",
    "def check(email):\n",
    "    if(re.fullmatch(regex, email)):\n",
    "            print(re.findall(regex, email))\n",
    "    else:\n",
    "        print(\"Invalid Email\")\n",
    "\n",
    "email=input('Enter text : ')\n",
    "check(email)"
   ]
  }
 ],
 "metadata": {
  "kernelspec": {
   "display_name": "Python 3 (ipykernel)",
   "language": "python",
   "name": "python3"
  },
  "language_info": {
   "codemirror_mode": {
    "name": "ipython",
    "version": 3
   },
   "file_extension": ".py",
   "mimetype": "text/x-python",
   "name": "python",
   "nbconvert_exporter": "python",
   "pygments_lexer": "ipython3",
   "version": "3.9.7"
  }
 },
 "nbformat": 4,
 "nbformat_minor": 5
}
