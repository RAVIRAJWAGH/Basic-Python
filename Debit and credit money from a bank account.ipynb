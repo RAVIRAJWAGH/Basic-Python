{
 "cells": [
  {
   "cell_type": "markdown",
   "id": "79c12cf4",
   "metadata": {},
   "source": [
    "# Write a python script to debit and credit money from a bank account using functions.\n",
    "<b> Example:\n",
    "    \n",
    "    Input: Enter amount to be deposited or withdrawn: 200\n",
    "    \n",
    "    Output: Deposit Balance: 200"
   ]
  },
  {
   "cell_type": "code",
   "execution_count": null,
   "id": "4d2a644d",
   "metadata": {},
   "outputs": [],
   "source": [
    "class Bank:\n",
    "    def __init__(self,pin=1234,balance=10000):\n",
    "        self.type=input('''Hello how can I help you...\n",
    "        1.Enter 1 to deposit money\n",
    "        2.Enter 2 to withdraw money\\n''')\n",
    "        self.pin=str(pin)\n",
    "        self.balance=balance\n",
    "        self.__action()\n",
    "\n",
    "    def __action(self):\n",
    "        if self.type=='1':\n",
    "            self.deposit()\n",
    "        elif self.type=='2':\n",
    "            self.withdraw()\n",
    "        else:\n",
    "            print('Invalid input')\n",
    "            \n",
    "    def deposit(self):\n",
    "        try :\n",
    "            amount=int(input('Enter amount to deposit....'))\n",
    "        except ValueError:\n",
    "            print('Please provide and interger value...')\n",
    "            self.deposit()\n",
    "        else:\n",
    "            if type(amount)==int:\n",
    "                self.balance+=amount\n",
    "            print(f'Your current balance is {self.balance}')\n",
    "        \n",
    "    def withdraw(self):\n",
    "        p=input('Enter your pin...')\n",
    "        if self.pin==p:\n",
    "            amount=int(input('Enter amount to withdraw...'))\n",
    "        if amount<=self.balance:\n",
    "            self.balance-=amount\n",
    "            print(f'your current balance is {self.balance}')\n",
    "        else:\n",
    "            print('Insufficient balance...')\n",
    "        \n",
    "#Object creation\n",
    "sbi=Bank()"
   ]
  }
 ],
 "metadata": {
  "kernelspec": {
   "display_name": "Python 3 (ipykernel)",
   "language": "python",
   "name": "python3"
  },
  "language_info": {
   "codemirror_mode": {
    "name": "ipython",
    "version": 3
   },
   "file_extension": ".py",
   "mimetype": "text/x-python",
   "name": "python",
   "nbconvert_exporter": "python",
   "pygments_lexer": "ipython3",
   "version": "3.9.7"
  }
 },
 "nbformat": 4,
 "nbformat_minor": 5
}
